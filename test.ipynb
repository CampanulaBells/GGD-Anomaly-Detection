{
 "cells": [
  {
   "cell_type": "code",
   "execution_count": 1,
   "metadata": {
    "collapsed": true,
    "pycharm": {
     "is_executing": false
    }
   },
   "outputs": [
    {
     "name": "stderr",
     "text": [
      "Using backend: pytorch\n"
     ],
     "output_type": "stream"
    }
   ],
   "source": [
    "import copy\n",
    "import time\n",
    "import dgl\n",
    "from model import Model\n",
    "from utils import *\n",
    "from sklearn.metrics import roc_auc_score\n",
    "from torch.utils.data.dataset import Dataset\n",
    "import random\n",
    "import os\n",
    "import argparse\n",
    "import numpy as np\n",
    "import networkx as nx\n",
    "import scipy.sparse as sp\n",
    "import torch\n",
    "import torch.nn as nn\n",
    "import scipy.io as sio\n",
    "import datetime\n",
    "from ggd import GGD\n",
    "from typing import List"
   ]
  },
  {
   "cell_type": "code",
   "execution_count": 2,
   "outputs": [],
   "source": [
    "class Args:\n",
    "    def __init__(self):\n",
    "        self.cuda = True\n",
    "        \n",
    "        self.dataset = \"cora\"\n",
    "        self.device = \"cuda:0\"\n",
    "        self.embedding_dim = 64\n",
    "        \n",
    "        self.n_ggd_epochs = 100\n",
    "        self.patience = 500\n",
    "        self.batch_size = 300\n",
    "        \n",
    "        self.n_hidden = 256\n",
    "        self.n_layers = 1\n",
    "        self.dropout = 0\n",
    "        self.proj_layers = 1\n",
    "        self.gnn_encoder = 'gcn'\n",
    "        self.num_hop = 10\n",
    "        self.ggd_lr = 3e-4\n",
    "        self.weight_decay = 0.\n",
    "        \n",
    "        self.auc_test_rounds = 256\n",
    "args =  Args()\n",
    "\n",
    "def aug_feature_dropout(input_feat, drop_percent=0.2):\n",
    "    # aug_input_feat = copy.deepcopy((input_feat.squeeze(0)))\n",
    "    aug_input_feat = copy.deepcopy(input_feat)\n",
    "    drop_feat_num = int(aug_input_feat.shape[1] * drop_percent)\n",
    "    drop_idx = random.sample([i for i in range(aug_input_feat.shape[1])], drop_feat_num)\n",
    "    aug_input_feat[:, drop_idx] = 0\n",
    "    \n",
    "    return aug_input_feat"
   ],
   "metadata": {
    "collapsed": false,
    "pycharm": {
     "name": "#%%\n",
     "is_executing": false
    }
   }
  },
  {
   "cell_type": "code",
   "execution_count": 3,
   "outputs": [
    {
     "name": "stdout",
     "text": [
      "Dataset: cora\n"
     ],
     "output_type": "stream"
    },
    {
     "name": "stderr",
     "text": [
      "G:\\GNN\\Graph-Group-Discrimination-main\\venv\\lib\\site-packages\\dgl\\base.py:45: DGLWarning: Recommend creating graphs by `dgl.graph(data)` instead of `dgl.DGLGraph(data)`.\n",
      "  return warnings.warn(message, category=category, stacklevel=1)\n"
     ],
     "output_type": "stream"
    }
   ],
   "source": [
    "print('Dataset: {}'.format(args.dataset), flush=True)\n",
    "device = torch.device(args.device if torch.cuda.is_available() else 'cpu')\n",
    "torch.backends.cudnn.deterministic = True\n",
    "torch.backends.cudnn.benchmark = False\n",
    "\n",
    "batch_size = args.batch_size\n",
    "\n",
    "adj, features, labels, idx_train, idx_val, idx_test, ano_label, str_ano_label, attr_ano_label = load_mat(args.dataset)\n",
    "\n",
    "features, _ = preprocess_features(features)\n",
    "dgl_graph = adj_to_dgl_graph(adj)\n",
    "src, dst = np.nonzero(adj)\n",
    "g = dgl.graph((src, dst))\n",
    "g.ndata['feat'] = torch.FloatTensor(features)\n",
    "g.ndata['label'] = torch.LongTensor(labels)\n",
    "n_edges = g.number_of_edges()"
   ],
   "metadata": {
    "collapsed": false,
    "pycharm": {
     "name": "#%%\n",
     "is_executing": false
    }
   }
  },
  {
   "cell_type": "code",
   "execution_count": 4,
   "outputs": [],
   "source": [
    "nb_nodes = features.shape[0]\n",
    "ft_size = features.shape[1]\n",
    "nb_classes = labels.shape[1]\n",
    "\n",
    "# adj = normalize_adj(adj)\n",
    "# adj = (adj + sp.eye(adj.shape[0])).todense()\n",
    "# adj = torch.FloatTensor(adj[np.newaxis]).to(device)\n",
    "\n",
    "features = torch.FloatTensor(features).to(device)\n",
    "labels = torch.FloatTensor(labels).to(device)\n",
    "idx_train = torch.LongTensor(idx_train).to(device)\n",
    "idx_val = torch.LongTensor(idx_val).to(device)\n",
    "idx_test = torch.LongTensor(idx_test).to(device)"
   ],
   "metadata": {
    "collapsed": false,
    "pycharm": {
     "name": "#%%\n",
     "is_executing": false
    }
   }
  },
  {
   "cell_type": "markdown",
   "source": [
    "Create GGD model"
   ],
   "metadata": {
    "collapsed": false,
    "pycharm": {
     "name": "#%% md\n",
     "is_executing": false
    }
   }
  },
  {
   "cell_type": "code",
   "execution_count": 5,
   "outputs": [],
   "source": [
    "g = g.to(device)\n",
    "# Create GGD model\n",
    "ggd = GGD(g,\n",
    "          ft_size,\n",
    "          args.n_hidden,\n",
    "          args.n_layers,\n",
    "          nn.PReLU(args.n_hidden),\n",
    "          args.dropout,\n",
    "          args.proj_layers,\n",
    "          args.gnn_encoder,\n",
    "          args.num_hop)\n",
    "\n",
    "if args.cuda:\n",
    "    ggd.cuda()\n",
    "\n",
    "ggd_optimizer = torch.optim.Adam(ggd.parameters(),\n",
    "                                 lr=args.ggd_lr,\n",
    "                                 weight_decay=args.weight_decay)\n",
    "b_xent = nn.BCEWithLogitsLoss()"
   ],
   "metadata": {
    "collapsed": false,
    "pycharm": {
     "name": "#%%\n",
     "is_executing": false
    }
   }
  },
  {
   "cell_type": "code",
   "execution_count": 6,
   "outputs": [
    {
     "name": "stdout",
     "text": [
      "Memory beg: 16.54345703125\n"
     ],
     "output_type": "stream"
    }
   ],
   "source": [
    "\n",
    "\n",
    "# train GGD\n",
    "cnt_wait = 0\n",
    "best = 1e9\n",
    "best_t = 0\n",
    "counts = 0\n",
    "avg_time = 0\n",
    "dur = []\n",
    "\n",
    "tag = str(datetime.datetime.now().strftime(\"%m-%d %H%M%S\"))\n",
    "print(\"Memory beg:\", torch.cuda.memory_allocated(device) / 1024 / 1024)"
   ],
   "metadata": {
    "collapsed": false,
    "pycharm": {
     "name": "#%%\n",
     "is_executing": false
    }
   }
  },
  {
   "cell_type": "code",
   "execution_count": 7,
   "outputs": [
    {
     "name": "stderr",
     "text": [
      "G:\\GNN\\Graph-Group-Discrimination-main\\venv\\lib\\site-packages\\numpy\\core\\fromnumeric.py:3474: RuntimeWarning: Mean of empty slice.\n",
      "  return _methods._mean(a, axis=axis, dtype=dtype,\n",
      "G:\\GNN\\Graph-Group-Discrimination-main\\venv\\lib\\site-packages\\numpy\\core\\_methods.py:189: RuntimeWarning: invalid value encountered in double_scalars\n",
      "  ret = ret.dtype.type(ret / rcount)\n"
     ],
     "output_type": "stream"
    },
    {
     "name": "stdout",
     "text": [
      "Epoch 00000 | Time(s) nan | Loss 0.9599 | ETputs(KTEPS) nan\n",
      "Epoch 00001 | Time(s) nan | Loss 0.9195 | ETputs(KTEPS) nan\n",
      "Epoch 00002 | Time(s) nan | Loss 0.8811 | ETputs(KTEPS) nan\n",
      "Epoch 00003 | Time(s) 0.0090 | Loss 0.8425 | ETputs(KTEPS) 1288.42\n",
      "Epoch 00004 | Time(s) 0.0090 | Loss 0.8090 | ETputs(KTEPS) 1288.39\n",
      "Epoch 00005 | Time(s) 0.0093 | Loss 0.7749 | ETputs(KTEPS) 1242.37\n",
      "Epoch 00006 | Time(s) 0.0095 | Loss 0.7511 | ETputs(KTEPS) 1220.59\n",
      "Epoch 00007 | Time(s) 0.0094 | Loss 0.7271 | ETputs(KTEPS) 1233.56\n",
      "Epoch 00008 | Time(s) 0.0095 | Loss 0.7088 | ETputs(KTEPS) 1220.58\n",
      "Epoch 00009 | Time(s) 0.0096 | Loss 0.7014 | ETputs(KTEPS) 1211.47\n",
      "Epoch 00010 | Time(s) 0.0096 | Loss 0.6996 | ETputs(KTEPS) 1204.72\n",
      "Epoch 00011 | Time(s) 0.0092 | Loss 0.7063 | ETputs(KTEPS) 1257.34\n",
      "Epoch 00012 | Time(s) 0.0093 | Loss 0.7155 | ETputs(KTEPS) 1246.83\n",
      "Epoch 00013 | Time(s) 0.0090 | Loss 0.7146 | ETputs(KTEPS) 1288.40\n",
      "Epoch 00014 | Time(s) 0.0088 | Loss 0.7249 | ETputs(KTEPS) 1325.21\n",
      "Epoch 00015 | Time(s) 0.0086 | Loss 0.7188 | ETputs(KTEPS) 1345.90\n",
      "Epoch 00016 | Time(s) 0.0085 | Loss 0.7206 | ETputs(KTEPS) 1364.17\n",
      "Epoch 00017 | Time(s) 0.0084 | Loss 0.7180 | ETputs(KTEPS) 1380.41\n",
      "Epoch 00018 | Time(s) 0.0083 | Loss 0.7123 | ETputs(KTEPS) 1405.52\n",
      "Epoch 00019 | Time(s) 0.0082 | Loss 0.7055 | ETputs(KTEPS) 1418.15\n",
      "Epoch 00020 | Time(s) 0.0081 | Loss 0.7021 | ETputs(KTEPS) 1429.57\n",
      "Epoch 00021 | Time(s) 0.0082 | Loss 0.6994 | ETputs(KTEPS) 1412.27\n",
      "Epoch 00022 | Time(s) 0.0083 | Loss 0.6978 | ETputs(KTEPS) 1397.05\n",
      "Epoch 00023 | Time(s) 0.0084 | Loss 0.6965 | ETputs(KTEPS) 1383.55\n",
      "Epoch 00024 | Time(s) 0.0083 | Loss 0.6975 | ETputs(KTEPS) 1401.65\n",
      "Epoch 00025 | Time(s) 0.0082 | Loss 0.6978 | ETputs(KTEPS) 1411.09\n",
      "Epoch 00026 | Time(s) 0.0082 | Loss 0.6983 | ETputs(KTEPS) 1419.85\n",
      "Epoch 00027 | Time(s) 0.0081 | Loss 0.6991 | ETputs(KTEPS) 1435.08\n",
      "Epoch 00028 | Time(s) 0.0080 | Loss 0.6996 | ETputs(KTEPS) 1449.43\n",
      "Epoch 00029 | Time(s) 0.0080 | Loss 0.6994 | ETputs(KTEPS) 1456.17\n",
      "Epoch 00030 | Time(s) 0.0079 | Loss 0.7003 | ETputs(KTEPS) 1462.48\n",
      "Epoch 00031 | Time(s) 0.0079 | Loss 0.6998 | ETputs(KTEPS) 1462.03\n",
      "Epoch 00032 | Time(s) 0.0079 | Loss 0.6982 | ETputs(KTEPS) 1467.77\n",
      "Epoch 00033 | Time(s) 0.0079 | Loss 0.6971 | ETputs(KTEPS) 1473.19\n",
      "Epoch 00034 | Time(s) 0.0079 | Loss 0.6962 | ETputs(KTEPS) 1460.84\n",
      "Epoch 00035 | Time(s) 0.0080 | Loss 0.6955 | ETputs(KTEPS) 1449.42\n",
      "Epoch 00036 | Time(s) 0.0081 | Loss 0.6947 | ETputs(KTEPS) 1438.84\n",
      "Epoch 00037 | Time(s) 0.0081 | Loss 0.6941 | ETputs(KTEPS) 1429.01\n",
      "Epoch 00038 | Time(s) 0.0082 | Loss 0.6939 | ETputs(KTEPS) 1419.85\n",
      "Epoch 00039 | Time(s) 0.0082 | Loss 0.6935 | ETputs(KTEPS) 1411.28\n",
      "Epoch 00040 | Time(s) 0.0082 | Loss 0.6943 | ETputs(KTEPS) 1416.80\n",
      "Epoch 00041 | Time(s) 0.0081 | Loss 0.6940 | ETputs(KTEPS) 1426.56\n",
      "Epoch 00042 | Time(s) 0.0081 | Loss 0.6940 | ETputs(KTEPS) 1435.96\n",
      "Epoch 00043 | Time(s) 0.0080 | Loss 0.6942 | ETputs(KTEPS) 1442.06\n",
      "Epoch 00044 | Time(s) 0.0081 | Loss 0.6927 | ETputs(KTEPS) 1433.78\n",
      "Epoch 00045 | Time(s) 0.0081 | Loss 0.6940 | ETputs(KTEPS) 1438.27\n",
      "Epoch 00046 | Time(s) 0.0080 | Loss 0.6939 | ETputs(KTEPS) 1442.59\n",
      "Epoch 00047 | Time(s) 0.0080 | Loss 0.6932 | ETputs(KTEPS) 1446.74\n",
      "Epoch 00048 | Time(s) 0.0081 | Loss 0.6925 | ETputs(KTEPS) 1438.99\n",
      "Epoch 00049 | Time(s) 0.0081 | Loss 0.6925 | ETputs(KTEPS) 1431.65\n",
      "Epoch 00050 | Time(s) 0.0081 | Loss 0.6914 | ETputs(KTEPS) 1424.69\n",
      "Epoch 00051 | Time(s) 0.0081 | Loss 0.6921 | ETputs(KTEPS) 1428.77\n",
      "Epoch 00052 | Time(s) 0.0081 | Loss 0.6919 | ETputs(KTEPS) 1432.71\n",
      "Epoch 00053 | Time(s) 0.0081 | Loss 0.6912 | ETputs(KTEPS) 1426.12\n",
      "Epoch 00054 | Time(s) 0.0081 | Loss 0.6916 | ETputs(KTEPS) 1429.95\n",
      "Epoch 00055 | Time(s) 0.0082 | Loss 0.6905 | ETputs(KTEPS) 1423.68\n",
      "Epoch 00056 | Time(s) 0.0081 | Loss 0.6912 | ETputs(KTEPS) 1430.66\n",
      "Epoch 00057 | Time(s) 0.0081 | Loss 0.6908 | ETputs(KTEPS) 1437.45\n",
      "Epoch 00058 | Time(s) 0.0081 | Loss 0.6906 | ETputs(KTEPS) 1440.85\n",
      "Epoch 00059 | Time(s) 0.0081 | Loss 0.6905 | ETputs(KTEPS) 1434.74\n",
      "Epoch 00060 | Time(s) 0.0081 | Loss 0.6905 | ETputs(KTEPS) 1428.90\n",
      "Epoch 00061 | Time(s) 0.0081 | Loss 0.6906 | ETputs(KTEPS) 1432.23\n",
      "Epoch 00062 | Time(s) 0.0081 | Loss 0.6897 | ETputs(KTEPS) 1426.64\n",
      "Epoch 00063 | Time(s) 0.0082 | Loss 0.6894 | ETputs(KTEPS) 1421.27\n",
      "Epoch 00064 | Time(s) 0.0082 | Loss 0.6890 | ETputs(KTEPS) 1416.12\n",
      "Epoch 00065 | Time(s) 0.0082 | Loss 0.6889 | ETputs(KTEPS) 1413.89\n",
      "Epoch 00066 | Time(s) 0.0082 | Loss 0.6892 | ETputs(KTEPS) 1417.13\n",
      "Epoch 00067 | Time(s) 0.0082 | Loss 0.6884 | ETputs(KTEPS) 1412.31\n",
      "Epoch 00068 | Time(s) 0.0082 | Loss 0.6889 | ETputs(KTEPS) 1418.09\n",
      "Epoch 00069 | Time(s) 0.0082 | Loss 0.6882 | ETputs(KTEPS) 1413.39\n",
      "Epoch 00070 | Time(s) 0.0082 | Loss 0.6874 | ETputs(KTEPS) 1408.85\n",
      "Epoch 00071 | Time(s) 0.0083 | Loss 0.6874 | ETputs(KTEPS) 1404.48\n",
      "Epoch 00072 | Time(s) 0.0083 | Loss 0.6862 | ETputs(KTEPS) 1400.25\n",
      "Epoch 00073 | Time(s) 0.0083 | Loss 0.6872 | ETputs(KTEPS) 1403.31\n",
      "Epoch 00074 | Time(s) 0.0082 | Loss 0.6867 | ETputs(KTEPS) 1408.67\n",
      "Epoch 00075 | Time(s) 0.0083 | Loss 0.6857 | ETputs(KTEPS) 1404.53\n",
      "Epoch 00076 | Time(s) 0.0083 | Loss 0.6854 | ETputs(KTEPS) 1400.54\n",
      "Epoch 00077 | Time(s) 0.0083 | Loss 0.6847 | ETputs(KTEPS) 1396.67\n",
      "Epoch 00078 | Time(s) 0.0083 | Loss 0.6848 | ETputs(KTEPS) 1399.55\n",
      "Epoch 00079 | Time(s) 0.0083 | Loss 0.6844 | ETputs(KTEPS) 1397.99\n",
      "Epoch 00080 | Time(s) 0.0083 | Loss 0.6840 | ETputs(KTEPS) 1394.31\n",
      "Epoch 00081 | Time(s) 0.0083 | Loss 0.6836 | ETputs(KTEPS) 1392.86\n",
      "Epoch 00082 | Time(s) 0.0083 | Loss 0.6834 | ETputs(KTEPS) 1391.45\n",
      "Epoch 00083 | Time(s) 0.0084 | Loss 0.6826 | ETputs(KTEPS) 1388.02\n",
      "Epoch 00084 | Time(s) 0.0083 | Loss 0.6829 | ETputs(KTEPS) 1390.77\n",
      "Epoch 00085 | Time(s) 0.0084 | Loss 0.6813 | ETputs(KTEPS) 1387.44\n",
      "Epoch 00086 | Time(s) 0.0083 | Loss 0.6823 | ETputs(KTEPS) 1390.12\n",
      "Epoch 00087 | Time(s) 0.0083 | Loss 0.6815 | ETputs(KTEPS) 1394.73\n",
      "Epoch 00088 | Time(s) 0.0083 | Loss 0.6803 | ETputs(KTEPS) 1393.40\n",
      "Epoch 00089 | Time(s) 0.0083 | Loss 0.6808 | ETputs(KTEPS) 1395.94\n",
      "Epoch 00090 | Time(s) 0.0083 | Loss 0.6799 | ETputs(KTEPS) 1394.62\n",
      "Epoch 00091 | Time(s) 0.0083 | Loss 0.6785 | ETputs(KTEPS) 1393.33\n",
      "Epoch 00092 | Time(s) 0.0083 | Loss 0.6774 | ETputs(KTEPS) 1392.07\n",
      "Epoch 00093 | Time(s) 0.0083 | Loss 0.6777 | ETputs(KTEPS) 1394.52\n",
      "Epoch 00094 | Time(s) 0.0083 | Loss 0.6771 | ETputs(KTEPS) 1391.45\n",
      "Epoch 00095 | Time(s) 0.0083 | Loss 0.6770 | ETputs(KTEPS) 1390.26\n",
      "Epoch 00096 | Time(s) 0.0084 | Loss 0.6745 | ETputs(KTEPS) 1389.09\n",
      "Epoch 00097 | Time(s) 0.0083 | Loss 0.6757 | ETputs(KTEPS) 1391.45\n",
      "Epoch 00098 | Time(s) 0.0083 | Loss 0.6746 | ETputs(KTEPS) 1393.78\n",
      "Epoch 00099 | Time(s) 0.0083 | Loss 0.6738 | ETputs(KTEPS) 1390.88\n"
     ],
     "output_type": "stream"
    }
   ],
   "source": [
    "epoch_list = []\n",
    "auc_score_list = []\n",
    "auc_pos_list = []\n",
    "auc_neg_list = []\n",
    "pos_std = []\n",
    "neg_std = []\n",
    "score_std = []\n",
    "\n",
    "for epoch in range(args.n_ggd_epochs):\n",
    "    if epoch % 10 == 0:\n",
    "        # Evaluation\n",
    "        ggd.eval()\n",
    "        with torch.no_grad():\n",
    "            pos_prob_list = []\n",
    "            neg_prob_list = []\n",
    "            for i in range(args.auc_test_rounds):\n",
    "                feature_dropout = aug_feature_dropout(features, 0.2)\n",
    "                pos_prob_list.append(ggd.forward_predict(features, False).detach())\n",
    "                neg_prob_list.append(ggd.forward_predict(features, True).detach())\n",
    "            pos_prob = torch.mean(torch.stack(pos_prob_list), axis=0)\n",
    "            neg_prob = torch.mean(torch.stack(neg_prob_list), axis=0)\n",
    "            ano_score = (neg_prob - pos_prob).cpu().numpy()\n",
    "            epoch_list.append(epoch)\n",
    "            auc_score_list.append(roc_auc_score(ano_label, ano_score))\n",
    "            auc_pos_list.append(roc_auc_score(ano_label, 1 - pos_prob.cpu().numpy()))\n",
    "            auc_neg_list.append(roc_auc_score(ano_label, neg_prob.cpu().numpy()))\n",
    "            pos_std.append(np.std(pos_prob.cpu().numpy()))\n",
    "            neg_std.append(np.std(neg_prob.cpu().numpy()))\n",
    "            score_std.append(np.std(ano_score))\n",
    "    t0 = time.time()\n",
    "    ggd.train()\n",
    "    if epoch >= 3:\n",
    "        t0 = time.time()\n",
    "    ggd_optimizer.zero_grad()\n",
    "    lbl_1 = torch.zeros(1, g.number_of_nodes())\n",
    "    lbl_2 = torch.ones(1, g.number_of_nodes())\n",
    "    lbl = torch.cat((lbl_1, lbl_2), 1).cuda()\n",
    "    # import pdb; pdb.set_trace()\n",
    "    aug_feat = aug_feature_dropout(features, 0.2)\n",
    "    loss = ggd(aug_feat.cuda(), lbl, b_xent)\n",
    "    loss.backward()\n",
    "    ggd_optimizer.step()\n",
    "\n",
    "    comp_time = time.time() - t0\n",
    "    # print('{} seconds'.format(comp_time))\n",
    "\n",
    "    if loss < best:\n",
    "        best = loss\n",
    "        best_t = epoch\n",
    "        cnt_wait = 0\n",
    "        torch.save(ggd.state_dict(), 'checkpoints_ggd/best_ggd' + tag + '.pkl')\n",
    "    else:\n",
    "        cnt_wait += 1\n",
    "\n",
    "    if cnt_wait == args.patience:\n",
    "        print('Early stopping!')\n",
    "        break\n",
    "\n",
    "    if epoch >= 3:\n",
    "        dur.append(time.time() - t0)\n",
    "\n",
    "    print(\"Epoch {:05d} | Time(s) {:.4f} | Loss {:.4f} | \"\n",
    "          \"ETputs(KTEPS) {:.2f}\".format(epoch, np.mean(dur), loss.item(),\n",
    "                                        n_edges / np.mean(dur) / 1000))\n",
    "\n",
    "    avg_time += comp_time\n",
    "    counts += 1"
   ],
   "metadata": {
    "collapsed": false,
    "pycharm": {
     "name": "#%%\n",
     "is_executing": false
    }
   }
  },
  {
   "cell_type": "code",
   "execution_count": 8,
   "outputs": [
    {
     "name": "stdout",
     "text": [
      "[0, 10, 20, 30, 40, 50, 60, 70, 80, 90]\n",
      "[0.49912301277039356, 0.507746937711754, 0.5131105029971332, 0.5107597081052906, 0.4960346624967422, 0.48457649205108155, 0.47997263487099295, 0.467121449048736, 0.4644266353922335, 0.46404222048475374]\n",
      "[0.47894970028668227, 0.3657870732342976, 0.37196898618712537, 0.40463513161323955, 0.38096299192077143, 0.37728303362001564, 0.37398488402397706, 0.36404352358613506, 0.37134349752410745, 0.3854795413083138]\n",
      "[0.5702163148292937, 0.6457922856398228, 0.6438480583789418, 0.6174420119885328, 0.6377078446703154, 0.6412640083398489, 0.6514112587959343, 0.6702332551472504, 0.7013904091738337, 0.7148123534010946]\n",
      "[0.004496583, 0.05478816, 0.05086303, 0.03301668, 0.03613275, 0.03316124, 0.029593829, 0.03133169, 0.033672754, 0.04034389]\n",
      "[0.00091390713, 0.049810864, 0.045255177, 0.026815787, 0.029850055, 0.026236331, 0.021271024, 0.020046277, 0.015526565, 0.01161507]\n",
      "[0.004403188, 0.019303296, 0.018522397, 0.015100392, 0.015124382, 0.01507387, 0.015946608, 0.019925594, 0.026834369, 0.03675948]\n"
     ],
     "output_type": "stream"
    }
   ],
   "source": [
    "# epoch_list \n",
    "# auc_score_list \n",
    "# auc_pos_list \n",
    "# auc_neg_list \n",
    "# pos_std \n",
    "# neg_std \n",
    "# score_std \n",
    "print(epoch_list)\n",
    "print(auc_score_list)\n",
    "print(auc_pos_list)\n",
    "print(auc_neg_list)\n",
    "print(pos_std)\n",
    "print(neg_std)\n",
    "print(score_std)"
   ],
   "metadata": {
    "collapsed": false,
    "pycharm": {
     "name": "#%%\n",
     "is_executing": false
    }
   }
  },
  {
   "cell_type": "code",
   "execution_count": 9,
   "outputs": [
    {
     "data": {
      "text/plain": "<Figure size 432x288 with 1 Axes>",
      "image/png": "[encoded data removed]"
     },
     "metadata": {
      "needs_background": "light"
     },
     "output_type": "display_data"
    }
   ],
   "source": [
    "import matplotlib.pyplot as plt\n",
    "plt.plot(epoch_list, auc_score_list, 'r', label=\"roc_auc_score(ano_label, negative - positive)\")\n",
    "plt.plot(epoch_list, auc_pos_list, 'g', label=\"roc_auc_score(ano_label, positive)\")\n",
    "plt.plot(epoch_list, auc_neg_list, 'b', label=\"roc_auc_score(ano_label, negative)\")\n",
    "plt.ylabel('auc')\n",
    "plt.legend()\n",
    "plt.ylim(0, 1)\n",
    "plt.yticks(np.arange(0, 1, step=0.1))\n",
    "plt.savefig(\"anomyggd_dropout.png\", dpi=400)"
   ],
   "metadata": {
    "collapsed": false,
    "pycharm": {
     "name": "#%%\n",
     "is_executing": false
    }
   }
  },
  {
   "cell_type": "code",
   "execution_count": 10,
   "outputs": [
    {
     "data": {
      "text/plain": "0.7148123534010946"
     },
     "metadata": {},
     "output_type": "execute_result",
     "execution_count": 10
    }
   ],
   "source": [
    "np.max(auc_neg_list)"
   ],
   "metadata": {
    "collapsed": false,
    "pycharm": {
     "name": "#%%\n",
     "is_executing": false
    }
   }
  }
 ],
 "metadata": {
  "kernelspec": {
   "name": "ggd",
   "language": "python",
   "display_name": "GGD"
  },
  "language_info": {
   "codemirror_mode": {
    "name": "ipython",
    "version": 2
   },
   "file_extension": ".py",
   "mimetype": "text/x-python",
   "name": "python",
   "nbconvert_exporter": "python",
   "pygments_lexer": "ipython2",
   "version": "2.7.6"
  },
  "pycharm": {
   "stem_cell": {
    "cell_type": "raw",
    "source": [],
    "metadata": {
     "collapsed": false
    }
   }
  }
 },
 "nbformat": 4,
 "nbformat_minor": 0
}