{
 "cells": [
  {
   "cell_type": "code",
   "execution_count": 1,
   "metadata": {
    "collapsed": true,
    "pycharm": {
     "is_executing": false
    }
   },
   "outputs": [
    {
     "name": "stderr",
     "text": [
      "Using backend: pytorch\n"
     ],
     "output_type": "stream"
    }
   ],
   "source": [
    "import copy\n",
    "import time\n",
    "import dgl\n",
    "from model import Model\n",
    "from utils import *\n",
    "from sklearn.metrics import roc_auc_score\n",
    "from torch.utils.data.dataset import Dataset\n",
    "import random\n",
    "import os\n",
    "import argparse\n",
    "import numpy as np\n",
    "import networkx as nx\n",
    "import scipy.sparse as sp\n",
    "import torch\n",
    "import torch.nn as nn\n",
    "import scipy.io as sio\n",
    "import datetime\n",
    "from ggd import GGD\n",
    "from typing import List"
   ]
  },
  {
   "cell_type": "code",
   "execution_count": 2,
   "outputs": [],
   "source": [
    "class Args:\n",
    "    def __init__(self):\n",
    "        self.cuda = True\n",
    "        \n",
    "        self.dataset = \"cora\"\n",
    "        self.device = \"cuda:0\"\n",
    "        self.embedding_dim = 64\n",
    "        \n",
    "        self.n_ggd_epochs = 100\n",
    "        self.patience = 500\n",
    "        self.batch_size = 300\n",
    "        \n",
    "        self.n_hidden = 256\n",
    "        self.n_layers = 1\n",
    "        self.dropout = 0\n",
    "        self.proj_layers = 1\n",
    "        self.gnn_encoder = 'gcn'\n",
    "        self.num_hop = 10\n",
    "        self.ggd_lr = 1e-3\n",
    "        self.weight_decay = 0.\n",
    "        \n",
    "        self.auc_test_rounds = 256\n",
    "args =  Args()\n",
    "\n",
    "def aug_feature_dropout(input_feat, drop_percent=0.2):\n",
    "    # aug_input_feat = copy.deepcopy((input_feat.squeeze(0)))\n",
    "    aug_input_feat = copy.deepcopy(input_feat)\n",
    "    drop_feat_num = int(aug_input_feat.shape[1] * drop_percent)\n",
    "    drop_idx = random.sample([i for i in range(aug_input_feat.shape[1])], drop_feat_num)\n",
    "    aug_input_feat[:, drop_idx] = 0\n",
    "    \n",
    "    return aug_input_feat"
   ],
   "metadata": {
    "collapsed": false,
    "pycharm": {
     "name": "#%%\n",
     "is_executing": false
    }
   }
  },
  {
   "cell_type": "code",
   "execution_count": 3,
   "outputs": [
    {
     "name": "stdout",
     "text": [
      "Dataset: cora\n"
     ],
     "output_type": "stream"
    },
    {
     "name": "stderr",
     "text": [
      "G:\\GNN\\Graph-Group-Discrimination-main\\venv\\lib\\site-packages\\dgl\\base.py:45: DGLWarning: Recommend creating graphs by `dgl.graph(data)` instead of `dgl.DGLGraph(data)`.\n",
      "  return warnings.warn(message, category=category, stacklevel=1)\n"
     ],
     "output_type": "stream"
    }
   ],
   "source": [
    "print('Dataset: {}'.format(args.dataset), flush=True)\n",
    "device = torch.device(args.device if torch.cuda.is_available() else 'cpu')\n",
    "torch.backends.cudnn.deterministic = True\n",
    "torch.backends.cudnn.benchmark = False\n",
    "\n",
    "batch_size = args.batch_size\n",
    "\n",
    "adj, features, labels, idx_train, idx_val, idx_test, ano_label, str_ano_label, attr_ano_label = load_mat(args.dataset)\n",
    "\n",
    "features, _ = preprocess_features(features)\n",
    "dgl_graph = adj_to_dgl_graph(adj)\n",
    "src, dst = np.nonzero(adj)\n",
    "g = dgl.graph((src, dst))\n",
    "g.ndata['feat'] = torch.FloatTensor(features)\n",
    "g.ndata['label'] = torch.LongTensor(labels)\n",
    "n_edges = g.number_of_edges()"
   ],
   "metadata": {
    "collapsed": false,
    "pycharm": {
     "name": "#%%\n",
     "is_executing": false
    }
   }
  },
  {
   "cell_type": "code",
   "execution_count": 4,
   "outputs": [],
   "source": [
    "nb_nodes = features.shape[0]\n",
    "ft_size = features.shape[1]\n",
    "nb_classes = labels.shape[1]\n",
    "\n",
    "# adj = normalize_adj(adj)\n",
    "# adj = (adj + sp.eye(adj.shape[0])).todense()\n",
    "# adj = torch.FloatTensor(adj[np.newaxis]).to(device)\n",
    "\n",
    "features = torch.FloatTensor(features).to(device)\n",
    "labels = torch.FloatTensor(labels).to(device)\n",
    "idx_train = torch.LongTensor(idx_train).to(device)\n",
    "idx_val = torch.LongTensor(idx_val).to(device)\n",
    "idx_test = torch.LongTensor(idx_test).to(device)"
   ],
   "metadata": {
    "collapsed": false,
    "pycharm": {
     "name": "#%%\n",
     "is_executing": false
    }
   }
  },
  {
   "cell_type": "markdown",
   "source": [
    "Create GGD model"
   ],
   "metadata": {
    "collapsed": false,
    "pycharm": {
     "name": "#%% md\n",
     "is_executing": false
    }
   }
  },
  {
   "cell_type": "code",
   "execution_count": 5,
   "outputs": [],
   "source": [
    "g = g.to(device)\n",
    "# Create GGD model\n",
    "ggd = GGD(g,\n",
    "          ft_size,\n",
    "          args.n_hidden,\n",
    "          args.n_layers,\n",
    "          nn.PReLU(args.n_hidden),\n",
    "          args.dropout,\n",
    "          args.proj_layers,\n",
    "          args.gnn_encoder,\n",
    "          args.num_hop)\n",
    "\n",
    "if args.cuda:\n",
    "    ggd.cuda()\n",
    "\n",
    "ggd_optimizer = torch.optim.Adam(ggd.parameters(),\n",
    "                                 lr=args.ggd_lr,\n",
    "                                 weight_decay=args.weight_decay)\n",
    "b_xent = nn.BCEWithLogitsLoss()"
   ],
   "metadata": {
    "collapsed": false,
    "pycharm": {
     "name": "#%%\n",
     "is_executing": false
    }
   }
  },
  {
   "cell_type": "code",
   "execution_count": 6,
   "outputs": [
    {
     "name": "stdout",
     "text": [
      "Memory beg: 16.54345703125\n"
     ],
     "output_type": "stream"
    }
   ],
   "source": [
    "\n",
    "\n",
    "# train GGD\n",
    "cnt_wait = 0\n",
    "best = 1e9\n",
    "best_t = 0\n",
    "counts = 0\n",
    "avg_time = 0\n",
    "dur = []\n",
    "\n",
    "tag = str(datetime.datetime.now().strftime(\"%m-%d %H%M%S\"))\n",
    "print(\"Memory beg:\", torch.cuda.memory_allocated(device) / 1024 / 1024)"
   ],
   "metadata": {
    "collapsed": false,
    "pycharm": {
     "name": "#%%\n",
     "is_executing": false
    }
   }
  },
  {
   "cell_type": "code",
   "execution_count": 7,
   "outputs": [
    {
     "name": "stderr",
     "text": [
      "G:\\GNN\\Graph-Group-Discrimination-main\\venv\\lib\\site-packages\\numpy\\core\\fromnumeric.py:3474: RuntimeWarning: Mean of empty slice.\n",
      "  return _methods._mean(a, axis=axis, dtype=dtype,\n",
      "G:\\GNN\\Graph-Group-Discrimination-main\\venv\\lib\\site-packages\\numpy\\core\\_methods.py:189: RuntimeWarning: invalid value encountered in double_scalars\n",
      "  ret = ret.dtype.type(ret / rcount)\n"
     ],
     "output_type": "stream"
    },
    {
     "name": "stdout",
     "text": [
      "Epoch 00000 | Time(s) nan | Loss 0.6957 | ETputs(KTEPS) nan\n",
      "Epoch 00001 | Time(s) nan | Loss 0.7040 | ETputs(KTEPS) nan\n",
      "Epoch 00002 | Time(s) nan | Loss 0.6940 | ETputs(KTEPS) nan\n",
      "Epoch 00003 | Time(s) 0.0100 | Loss 0.6925 | ETputs(KTEPS) 1159.52\n",
      "Epoch 00004 | Time(s) 0.0080 | Loss 0.6964 | ETputs(KTEPS) 1449.39\n",
      "Epoch 00005 | Time(s) 0.0073 | Loss 0.6945 | ETputs(KTEPS) 1581.16\n",
      "Epoch 00006 | Time(s) 0.0080 | Loss 0.6913 | ETputs(KTEPS) 1449.43\n",
      "Epoch 00007 | Time(s) 0.0082 | Loss 0.6898 | ETputs(KTEPS) 1414.08\n",
      "Epoch 00008 | Time(s) 0.0078 | Loss 0.6916 | ETputs(KTEPS) 1480.27\n",
      "Epoch 00009 | Time(s) 0.0077 | Loss 0.6913 | ETputs(KTEPS) 1503.12\n",
      "Epoch 00010 | Time(s) 0.0080 | Loss 0.6892 | ETputs(KTEPS) 1449.43\n",
      "Epoch 00011 | Time(s) 0.0082 | Loss 0.6876 | ETputs(KTEPS) 1410.26\n",
      "Epoch 00012 | Time(s) 0.0084 | Loss 0.6869 | ETputs(KTEPS) 1384.86\n",
      "Epoch 00013 | Time(s) 0.0083 | Loss 0.6877 | ETputs(KTEPS) 1405.81\n",
      "Epoch 00014 | Time(s) 0.0083 | Loss 0.6843 | ETputs(KTEPS) 1395.22\n",
      "Epoch 00015 | Time(s) 0.0084 | Loss 0.6816 | ETputs(KTEPS) 1386.37\n",
      "Epoch 00016 | Time(s) 0.0084 | Loss 0.6813 | ETputs(KTEPS) 1378.88\n",
      "Epoch 00017 | Time(s) 0.0085 | Loss 0.6813 | ETputs(KTEPS) 1361.71\n",
      "Epoch 00018 | Time(s) 0.0086 | Loss 0.6776 | ETputs(KTEPS) 1356.88\n",
      "Epoch 00019 | Time(s) 0.0086 | Loss 0.6753 | ETputs(KTEPS) 1347.36\n",
      "Epoch 00020 | Time(s) 0.0087 | Loss 0.6751 | ETputs(KTEPS) 1335.33\n",
      "Epoch 00021 | Time(s) 0.0088 | Loss 0.6712 | ETputs(KTEPS) 1324.77\n",
      "Epoch 00022 | Time(s) 0.0088 | Loss 0.6656 | ETputs(KTEPS) 1322.90\n",
      "Epoch 00023 | Time(s) 0.0089 | Loss 0.6651 | ETputs(KTEPS) 1310.34\n",
      "Epoch 00024 | Time(s) 0.0089 | Loss 0.6612 | ETputs(KTEPS) 1302.64\n",
      "Epoch 00025 | Time(s) 0.0090 | Loss 0.6600 | ETputs(KTEPS) 1295.69\n",
      "Epoch 00026 | Time(s) 0.0090 | Loss 0.6574 | ETputs(KTEPS) 1295.38\n",
      "Epoch 00027 | Time(s) 0.0090 | Loss 0.6507 | ETputs(KTEPS) 1295.10\n",
      "Epoch 00028 | Time(s) 0.0089 | Loss 0.6516 | ETputs(KTEPS) 1306.06\n",
      "Epoch 00029 | Time(s) 0.0088 | Loss 0.6544 | ETputs(KTEPS) 1316.38\n",
      "Epoch 00030 | Time(s) 0.0091 | Loss 0.6438 | ETputs(KTEPS) 1269.07\n",
      "Epoch 00031 | Time(s) 0.0094 | Loss 0.6398 | ETputs(KTEPS) 1232.50\n",
      "Epoch 00032 | Time(s) 0.0094 | Loss 0.6410 | ETputs(KTEPS) 1238.68\n",
      "Epoch 00033 | Time(s) 0.0097 | Loss 0.6369 | ETputs(KTEPS) 1190.92\n",
      "Epoch 00034 | Time(s) 0.0097 | Loss 0.6379 | ETputs(KTEPS) 1197.59\n",
      "Epoch 00035 | Time(s) 0.0097 | Loss 0.6277 | ETputs(KTEPS) 1192.67\n",
      "Epoch 00036 | Time(s) 0.0097 | Loss 0.6238 | ETputs(KTEPS) 1192.69\n",
      "Epoch 00037 | Time(s) 0.0097 | Loss 0.6304 | ETputs(KTEPS) 1202.31\n",
      "Epoch 00038 | Time(s) 0.0097 | Loss 0.6202 | ETputs(KTEPS) 1201.96\n",
      "Epoch 00039 | Time(s) 0.0097 | Loss 0.6166 | ETputs(KTEPS) 1201.20\n",
      "Epoch 00040 | Time(s) 0.0096 | Loss 0.6210 | ETputs(KTEPS) 1209.95\n",
      "Epoch 00041 | Time(s) 0.0096 | Loss 0.6063 | ETputs(KTEPS) 1209.37\n",
      "Epoch 00042 | Time(s) 0.0095 | Loss 0.6199 | ETputs(KTEPS) 1217.58\n",
      "Epoch 00043 | Time(s) 0.0096 | Loss 0.5979 | ETputs(KTEPS) 1213.49\n",
      "Epoch 00044 | Time(s) 0.0095 | Loss 0.6006 | ETputs(KTEPS) 1224.36\n",
      "Epoch 00045 | Time(s) 0.0095 | Loss 0.5955 | ETputs(KTEPS) 1221.87\n",
      "Epoch 00046 | Time(s) 0.0094 | Loss 0.5958 | ETputs(KTEPS) 1232.17\n",
      "Epoch 00047 | Time(s) 0.0094 | Loss 0.5868 | ETputs(KTEPS) 1230.45\n",
      "Epoch 00048 | Time(s) 0.0094 | Loss 0.5872 | ETputs(KTEPS) 1240.25\n",
      "Epoch 00049 | Time(s) 0.0094 | Loss 0.5733 | ETputs(KTEPS) 1241.24\n",
      "Epoch 00050 | Time(s) 0.0093 | Loss 0.5773 | ETputs(KTEPS) 1247.75\n",
      "Epoch 00051 | Time(s) 0.0093 | Loss 0.5682 | ETputs(KTEPS) 1245.82\n",
      "Epoch 00052 | Time(s) 0.0092 | Loss 0.5690 | ETputs(KTEPS) 1254.74\n",
      "Epoch 00053 | Time(s) 0.0092 | Loss 0.5654 | ETputs(KTEPS) 1255.38\n",
      "Epoch 00054 | Time(s) 0.0093 | Loss 0.5538 | ETputs(KTEPS) 1252.93\n",
      "Epoch 00055 | Time(s) 0.0092 | Loss 0.5583 | ETputs(KTEPS) 1258.71\n",
      "Epoch 00056 | Time(s) 0.0092 | Loss 0.5512 | ETputs(KTEPS) 1256.72\n",
      "Epoch 00057 | Time(s) 0.0092 | Loss 0.5595 | ETputs(KTEPS) 1262.26\n",
      "Epoch 00058 | Time(s) 0.0092 | Loss 0.5455 | ETputs(KTEPS) 1260.65\n",
      "Epoch 00059 | Time(s) 0.0092 | Loss 0.5376 | ETputs(KTEPS) 1259.74\n",
      "Epoch 00060 | Time(s) 0.0092 | Loss 0.5493 | ETputs(KTEPS) 1267.35\n",
      "Epoch 00061 | Time(s) 0.0092 | Loss 0.5336 | ETputs(KTEPS) 1264.07\n",
      "Epoch 00062 | Time(s) 0.0091 | Loss 0.5399 | ETputs(KTEPS) 1271.40\n",
      "Epoch 00063 | Time(s) 0.0091 | Loss 0.5190 | ETputs(KTEPS) 1270.44\n",
      "Epoch 00064 | Time(s) 0.0091 | Loss 0.5241 | ETputs(KTEPS) 1277.50\n",
      "Epoch 00065 | Time(s) 0.0090 | Loss 0.5329 | ETputs(KTEPS) 1284.41\n",
      "Epoch 00066 | Time(s) 0.0091 | Loss 0.5069 | ETputs(KTEPS) 1282.22\n",
      "Epoch 00067 | Time(s) 0.0090 | Loss 0.5229 | ETputs(KTEPS) 1288.90\n",
      "Epoch 00068 | Time(s) 0.0090 | Loss 0.5191 | ETputs(KTEPS) 1295.43\n",
      "Epoch 00069 | Time(s) 0.0089 | Loss 0.5080 | ETputs(KTEPS) 1299.66\n",
      "Epoch 00070 | Time(s) 0.0089 | Loss 0.5056 | ETputs(KTEPS) 1297.36\n",
      "Epoch 00071 | Time(s) 0.0090 | Loss 0.5022 | ETputs(KTEPS) 1295.12\n",
      "Epoch 00072 | Time(s) 0.0089 | Loss 0.5042 | ETputs(KTEPS) 1301.26\n",
      "Epoch 00073 | Time(s) 0.0089 | Loss 0.4969 | ETputs(KTEPS) 1298.35\n",
      "Epoch 00074 | Time(s) 0.0089 | Loss 0.4922 | ETputs(KTEPS) 1298.21\n",
      "Epoch 00075 | Time(s) 0.0089 | Loss 0.4730 | ETputs(KTEPS) 1298.07\n",
      "Epoch 00076 | Time(s) 0.0089 | Loss 0.4826 | ETputs(KTEPS) 1301.88\n",
      "Epoch 00077 | Time(s) 0.0089 | Loss 0.4925 | ETputs(KTEPS) 1305.61\n",
      "Epoch 00078 | Time(s) 0.0089 | Loss 0.4871 | ETputs(KTEPS) 1311.20\n",
      "Epoch 00079 | Time(s) 0.0089 | Loss 0.4672 | ETputs(KTEPS) 1310.90\n",
      "Epoch 00080 | Time(s) 0.0088 | Loss 0.4980 | ETputs(KTEPS) 1316.33\n",
      "Epoch 00081 | Time(s) 0.0088 | Loss 0.4569 | ETputs(KTEPS) 1313.88\n",
      "Epoch 00082 | Time(s) 0.0088 | Loss 0.5249 | ETputs(KTEPS) 1317.29\n",
      "Epoch 00083 | Time(s) 0.0088 | Loss 0.4670 | ETputs(KTEPS) 1320.62\n",
      "Epoch 00084 | Time(s) 0.0088 | Loss 0.5135 | ETputs(KTEPS) 1325.74\n",
      "Epoch 00085 | Time(s) 0.0087 | Loss 0.4728 | ETputs(KTEPS) 1328.94\n",
      "Epoch 00086 | Time(s) 0.0087 | Loss 0.4627 | ETputs(KTEPS) 1332.08\n",
      "Epoch 00087 | Time(s) 0.0087 | Loss 0.4695 | ETputs(KTEPS) 1335.15\n",
      "Epoch 00088 | Time(s) 0.0087 | Loss 0.4616 | ETputs(KTEPS) 1338.17\n",
      "Epoch 00089 | Time(s) 0.0087 | Loss 0.4444 | ETputs(KTEPS) 1334.66\n",
      "Epoch 00090 | Time(s) 0.0087 | Loss 0.4590 | ETputs(KTEPS) 1337.61\n",
      "Epoch 00091 | Time(s) 0.0087 | Loss 0.4437 | ETputs(KTEPS) 1337.04\n",
      "Epoch 00092 | Time(s) 0.0087 | Loss 0.4543 | ETputs(KTEPS) 1341.63\n",
      "Epoch 00093 | Time(s) 0.0086 | Loss 0.4555 | ETputs(KTEPS) 1344.44\n",
      "Epoch 00094 | Time(s) 0.0086 | Loss 0.4575 | ETputs(KTEPS) 1347.20\n",
      "Epoch 00095 | Time(s) 0.0086 | Loss 0.4268 | ETputs(KTEPS) 1344.86\n",
      "Epoch 00096 | Time(s) 0.0086 | Loss 0.4688 | ETputs(KTEPS) 1349.23\n",
      "Epoch 00097 | Time(s) 0.0086 | Loss 0.4498 | ETputs(KTEPS) 1353.53\n",
      "Epoch 00098 | Time(s) 0.0086 | Loss 0.4285 | ETputs(KTEPS) 1356.11\n",
      "Epoch 00099 | Time(s) 0.0085 | Loss 0.4676 | ETputs(KTEPS) 1358.65\n"
     ],
     "output_type": "stream"
    }
   ],
   "source": [
    "epoch_list = []\n",
    "auc_score_list = []\n",
    "auc_pos_list = []\n",
    "auc_neg_list = []\n",
    "pos_std = []\n",
    "neg_std = []\n",
    "score_std = []\n",
    "\n",
    "for epoch in range(args.n_ggd_epochs):\n",
    "    if epoch % 10 == 0:\n",
    "        # Evaluation\n",
    "        ggd.eval()\n",
    "        with torch.no_grad():\n",
    "            pos_prob_list = []\n",
    "            neg_prob_list = []\n",
    "            for i in range(args.auc_test_rounds):\n",
    "                feature_dropout = aug_feature_dropout(features, 0.2)\n",
    "                pos_prob_list.append(ggd.forward_predict(features, False).detach())\n",
    "                neg_prob_list.append(ggd.forward_predict(features, True).detach())\n",
    "            pos_prob = torch.mean(torch.stack(pos_prob_list), axis=0)\n",
    "            neg_prob = torch.mean(torch.stack(neg_prob_list), axis=0)\n",
    "            ano_score = (neg_prob - pos_prob).cpu().numpy()\n",
    "            epoch_list.append(epoch)\n",
    "            auc_score_list.append(roc_auc_score(ano_label, ano_score))\n",
    "            auc_pos_list.append(roc_auc_score(ano_label, 1 - pos_prob.cpu().numpy()))\n",
    "            auc_neg_list.append(roc_auc_score(ano_label, neg_prob.cpu().numpy()))\n",
    "            pos_std.append(np.std(pos_prob.cpu().numpy()))\n",
    "            neg_std.append(np.std(neg_prob.cpu().numpy()))\n",
    "            score_std.append(np.std(ano_score))\n",
    "    t0 = time.time()\n",
    "    ggd.train()\n",
    "    if epoch >= 3:\n",
    "        t0 = time.time()\n",
    "    ggd_optimizer.zero_grad()\n",
    "    lbl_1 = torch.zeros(1, g.number_of_nodes())\n",
    "    lbl_2 = torch.ones(1, g.number_of_nodes())\n",
    "    lbl = torch.cat((lbl_1, lbl_2), 1).cuda()\n",
    "    # import pdb; pdb.set_trace()\n",
    "    aug_feat = aug_feature_dropout(features, 0.2)\n",
    "    loss = ggd(aug_feat.cuda(), lbl, b_xent)\n",
    "    loss.backward()\n",
    "    ggd_optimizer.step()\n",
    "\n",
    "    comp_time = time.time() - t0\n",
    "    # print('{} seconds'.format(comp_time))\n",
    "\n",
    "    if loss < best:\n",
    "        best = loss\n",
    "        best_t = epoch\n",
    "        cnt_wait = 0\n",
    "        torch.save(ggd.state_dict(), 'checkpoints_ggd/best_ggd' + tag + '.pkl')\n",
    "    else:\n",
    "        cnt_wait += 1\n",
    "\n",
    "    if cnt_wait == args.patience:\n",
    "        print('Early stopping!')\n",
    "        break\n",
    "\n",
    "    if epoch >= 3:\n",
    "        dur.append(time.time() - t0)\n",
    "\n",
    "    print(\"Epoch {:05d} | Time(s) {:.4f} | Loss {:.4f} | \"\n",
    "          \"ETputs(KTEPS) {:.2f}\".format(epoch, np.mean(dur), loss.item(),\n",
    "                                        n_edges / np.mean(dur) / 1000))\n",
    "\n",
    "    avg_time += comp_time\n",
    "    counts += 1"
   ],
   "metadata": {
    "collapsed": false,
    "pycharm": {
     "name": "#%%\n",
     "is_executing": false
    }
   }
  },
  {
   "cell_type": "code",
   "execution_count": 8,
   "outputs": [
    {
     "name": "stdout",
     "text": [
      "[0, 10, 20, 30, 40, 50, 60, 70, 80, 90]\n",
      "[0.5173195204586918, 0.46407740422204846, 0.44827078446703156, 0.4561858222569716, 0.5131000781860828, 0.5052215272348188, 0.5358887151420381, 0.5666340891321344, 0.4721540265832682, 0.515049517852489]\n",
      "[0.5844930935626791, 0.3286473807662236, 0.29842194422726087, 0.31766093302058906, 0.3407961949439666, 0.3242832942402919, 0.32846624967422466, 0.3426048996611937, 0.3377808183476675, 0.3593393275996873]\n",
      "[0.3014725045608548, 0.7042845973416731, 0.7371344800625488, 0.7449622100599426, 0.7463421944227261, 0.7459069585613762, 0.7436968986187125, 0.7426075058639562, 0.741922074537399, 0.740095126400834]\n",
      "[0.007808814, 0.024083933, 0.05709623, 0.10699425, 0.12210294, 0.13816798, 0.13638526, 0.13757953, 0.17302518, 0.16165432]\n",
      "[0.0024881244, 0.013983645, 0.029181061, 0.05482062, 0.07645066, 0.101491585, 0.1262833, 0.14927119, 0.14802688, 0.1625121]\n",
      "[0.007468937, 0.019663367, 0.05203585, 0.10697826, 0.1330575, 0.15743369, 0.17357029, 0.19412987, 0.21821336, 0.22477508]\n"
     ],
     "output_type": "stream"
    }
   ],
   "source": [
    "# epoch_list \n",
    "# auc_score_list \n",
    "# auc_pos_list \n",
    "# auc_neg_list \n",
    "# pos_std \n",
    "# neg_std \n",
    "# score_std \n",
    "print(epoch_list)\n",
    "print(auc_score_list)\n",
    "print(auc_pos_list)\n",
    "print(auc_neg_list)\n",
    "print(pos_std)\n",
    "print(neg_std)\n",
    "print(score_std)"
   ],
   "metadata": {
    "collapsed": false,
    "pycharm": {
     "name": "#%%\n",
     "is_executing": false
    }
   }
  },
  {
   "cell_type": "code",
   "execution_count": 9,
   "outputs": [
    {
     "data": {
      "text/plain": "<Figure size 432x288 with 1 Axes>",
      "image/png": "[encoded data removed]"
     },
     "metadata": {
      "needs_background": "light"
     },
     "output_type": "display_data"
    }
   ],
   "source": [
    "import matplotlib.pyplot as plt\n",
    "plt.plot(epoch_list, auc_score_list, 'r', label=\"roc_auc_score(ano_label, negative - positive)\")\n",
    "plt.plot(epoch_list, auc_pos_list, 'g', label=\"roc_auc_score(ano_label, positive)\")\n",
    "plt.plot(epoch_list, auc_neg_list, 'b', label=\"roc_auc_score(ano_label, negative)\")\n",
    "plt.ylabel('auc')\n",
    "plt.legend()\n",
    "plt.ylim(0, 1)\n",
    "plt.yticks(np.arange(0, 1, step=0.1))\n",
    "plt.savefig(\"anomyggd_dropout.png\", dpi=400)"
   ],
   "metadata": {
    "collapsed": false,
    "pycharm": {
     "name": "#%%\n",
     "is_executing": false
    }
   }
  },
  {
   "cell_type": "code",
   "execution_count": 16,
   "outputs": [],
   "source": [
    "neg_pred = torch.cat(neg_prob_list, dim=0)"
   ],
   "metadata": {
    "collapsed": false,
    "pycharm": {
     "name": "#%%\n",
     "is_executing": false
    }
   }
  },
  {
   "cell_type": "code",
   "execution_count": 18,
   "outputs": [],
   "source": [
    "mean = torch.mean(neg_pred).detach().cpu().item()\n",
    "std = torch.std(neg_pred).detach().cpu().item()\n",
    "\n",
    "dummy_score = np.random.normal(mean, std, size=ano_label.size)"
   ],
   "metadata": {
    "collapsed": false,
    "pycharm": {
     "name": "#%%\n",
     "is_executing": false
    }
   }
  },
  {
   "cell_type": "code",
   "execution_count": 65,
   "outputs": [
    {
     "data": {
      "text/plain": "0.740095126400834"
     },
     "metadata": {},
     "output_type": "execute_result",
     "execution_count": 65
    }
   ],
   "source": [
    "roc_auc_score(ano_label, neg_prob.cpu().numpy())"
   ],
   "metadata": {
    "collapsed": false,
    "pycharm": {
     "name": "#%%\n",
     "is_executing": false
    }
   }
  },
  {
   "cell_type": "code",
   "execution_count": 146,
   "outputs": [],
   "source": [
    "mean_feature = torch.mean(features, 0).detach().cpu()"
   ],
   "metadata": {
    "collapsed": false,
    "pycharm": {
     "name": "#%%\n",
     "is_executing": false
    }
   }
  },
  {
   "cell_type": "code",
   "execution_count": 181,
   "outputs": [
    {
     "name": "stdout",
     "text": [
      "mean: 0.6193366603140473  std: 0.030320661428320513\n"
     ],
     "output_type": "stream"
    }
   ],
   "source": [
    "res = []\n",
    "for i in range(64):\n",
    "    rand_feature = (torch.rand(features.shape) < mean_feature).to(torch.float32)\n",
    "    score_zero = ggd.forward_predict(rand_feature.to(device), False)\n",
    "    res.append(roc_auc_score(ano_label, score_zero.detach().cpu().numpy()))\n",
    "res = np.array(res)\n",
    "print(\"mean:\", np.mean(res), \" std:\", np.std(res))\n"
   ],
   "metadata": {
    "collapsed": false,
    "pycharm": {
     "name": "#%%\n",
     "is_executing": false
    }
   }
  }
 ],
 "metadata": {
  "kernelspec": {
   "name": "ggd",
   "language": "python",
   "display_name": "GGD"
  },
  "language_info": {
   "codemirror_mode": {
    "name": "ipython",
    "version": 2
   },
   "file_extension": ".py",
   "mimetype": "text/x-python",
   "name": "python",
   "nbconvert_exporter": "python",
   "pygments_lexer": "ipython2",
   "version": "2.7.6"
  },
  "pycharm": {
   "stem_cell": {
    "cell_type": "raw",
    "source": [],
    "metadata": {
     "collapsed": false
    }
   }
  }
 },
 "nbformat": 4,
 "nbformat_minor": 0
}