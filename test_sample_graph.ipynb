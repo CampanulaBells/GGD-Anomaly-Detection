{
 "cells": [
  {
   "cell_type": "code",
   "execution_count": 483,
   "metadata": {
    "collapsed": true,
    "pycharm": {
     "is_executing": false
    }
   },
   "outputs": [],
   "source": [
    "import dgl\n",
    "import dgl.data\n",
    "import matplotlib.pyplot as plt\n",
    "import numpy as np\n",
    "import networkx as nx\n",
    "import scipy.sparse as sp\n",
    "import torch\n",
    "import torch.nn as nn\n",
    "import scipy.io as sio\n",
    "import random\n",
    "import copy\n",
    "import time"
   ]
  },
  {
   "cell_type": "markdown",
   "source": [
    "# Test dgl draw graph"
   ],
   "metadata": {
    "collapsed": false,
    "pycharm": {
     "name": "#%% md\n",
     "is_executing": false
    }
   }
  },
  {
   "cell_type": "code",
   "execution_count": 311,
   "outputs": [
    {
     "data": {
      "text/plain": "<Figure size 432x288 with 1 Axes>",
      "image/png": "[encoded data removed]"
     },
     "metadata": {},
     "output_type": "display_data"
    }
   ],
   "source": [
    "# dataset = dgl.data.CoraGraphDataset()\n",
    "# test_graph = dataset[0]\n",
    "\n",
    "graph_src = np.array([0, 1, 1], dtype=np.int32)\n",
    "graph_dst = np.array([1, 2, 3], dtype=np.int32)\n",
    "test_graph = dgl.graph((graph_src, graph_dst))\n",
    "\n",
    "options = {\n",
    "    'node_color': 'white',\n",
    "    'node_size': 30,\n",
    "    'width': 1,\n",
    "    'with_labels': True\n",
    "}\n",
    "G = dgl.to_networkx(test_graph)\n",
    "plt.figure(figsize=[6,4])\n",
    "nx.draw(G, **options)"
   ],
   "metadata": {
    "collapsed": false,
    "pycharm": {
     "name": "#%%\n",
     "is_executing": false
    }
   }
  },
  {
   "cell_type": "markdown",
   "source": [
    "# Generate Testing Graph"
   ],
   "metadata": {
    "collapsed": false,
    "pycharm": {
     "name": "#%% md\n"
    }
   }
  },
  {
   "cell_type": "code",
   "execution_count": 312,
   "outputs": [
    {
     "name": "stderr",
     "text": [
      "G:\\GNN\\Graph-Group-Discrimination-main\\venv\\lib\\site-packages\\dgl\\base.py:45: DGLWarning: Recommend creating graphs by `dgl.graph(data)` instead of `dgl.DGLGraph(data)`.\n",
      "  return warnings.warn(message, category=category, stacklevel=1)\n"
     ],
     "output_type": "stream"
    }
   ],
   "source": [
    "N = 10\n",
    "EdgeSelectRatio = 0.3\n",
    "\n",
    "np.random.seed(10)\n",
    "\n",
    "edge_pair = [(i // N, i % N) for i in range(N ** 2) if i // N > i % N]\n",
    "selected_edges = np.array(edge_pair)[np.random.choice(np.arange(len(edge_pair)), size=int(EdgeSelectRatio * len(edge_pair)), replace=False)]\n",
    "selected_edges = np.concatenate([selected_edges, selected_edges[:, ::-1]], axis=0)\n",
    "\n",
    "graph = dgl.DGLGraph((selected_edges[:, 0], selected_edges[:, 1]))"
   ],
   "metadata": {
    "collapsed": false,
    "pycharm": {
     "name": "#%%\n",
     "is_executing": false
    }
   }
  },
  {
   "cell_type": "code",
   "execution_count": 612,
   "outputs": [
    {
     "data": {
      "text/plain": "<Figure size 432x288 with 1 Axes>",
      "image/png": "[encoded data removed]"
     },
     "metadata": {},
     "output_type": "display_data"
    }
   ],
   "source": [
    "options = {\n",
    "    'node_color': 'white',\n",
    "    'node_size': 30,\n",
    "    'width': 1,\n",
    "    'with_labels': True\n",
    "}\n",
    "G_NWX = dgl.to_networkx(graph)\n",
    "plt.figure(figsize=[6,4])\n",
    "nx.draw_spectral(G_NWX, **options)"
   ],
   "metadata": {
    "collapsed": false,
    "pycharm": {
     "name": "#%%\n",
     "is_executing": false
    }
   }
  },
  {
   "cell_type": "markdown",
   "source": [
    "# TEST: Random walk with prob = 1"
   ],
   "metadata": {
    "collapsed": false,
    "pycharm": {
     "name": "#%% md\n"
    }
   }
  },
  {
   "cell_type": "code",
   "execution_count": 314,
   "outputs": [],
   "source": [
    "# subgraph_size = 4\n",
    "# \n",
    "# traces = dgl.contrib.sampling.random_walk_with_restart(\n",
    "#     graph, list(range(N)), \n",
    "#     restart_prob=1, \n",
    "#     max_nodes_per_seed=subgraph_size*3)\n",
    "\n",
    "\n",
    "# node_dict = {}\n",
    "# for i in range(len(traces)):\n",
    "#     trace = traces[i]\n",
    "#     node_set = set()\n",
    "#     for node in trace:\n",
    "#         node_set.add(node.item())\n",
    "#     node_dict[i] = node_set\n",
    "\n",
    "\n",
    "# node_start = 1\n",
    "# sampled_nodes = node_dict[node_start]\n",
    "\n",
    "def draw_subgraph(G_NWX, node_start, sampled_nodes):\n",
    "    node_color_map = []\n",
    "    for node in range(len(G_NWX.nodes)):\n",
    "        if node in sampled_nodes:\n",
    "            node_color_map.append(\"pink\")\n",
    "        elif node == node_start:\n",
    "            node_color_map.append(\"red\")\n",
    "        else: \n",
    "            node_color_map.append(\"white\")\n",
    "    subgraph_nodes = {node_start}\n",
    "    for e in sampled_nodes:\n",
    "        subgraph_nodes.add(e)\n",
    "    edge_color_map = []\n",
    "    for u, v in G_NWX.edges():\n",
    "        if u in subgraph_nodes and v in subgraph_nodes:\n",
    "            edge_color_map.append(\"salmon\")\n",
    "        else:\n",
    "            edge_color_map.append(\"gray\")\n",
    "        \n",
    "    options = {\n",
    "        'node_color': 'white',\n",
    "        'node_size': 30,\n",
    "        'font_size': 8,\n",
    "        'width': 1,\n",
    "        'with_labels': True,\n",
    "        'node_color': node_color_map,\n",
    "        'edge_color': edge_color_map\n",
    "    }\n",
    "    nx.draw_spectral(G_NWX, **options)\n",
    "\n",
    "# draw graph with different ratio\n",
    "# FIG_W = 5\n",
    "# FIG_H = 2\n",
    "# plt.figure(figsize=[2*FIG_W,2*FIG_H])\n",
    "# \n",
    "# for node in range(N):\n",
    "#     plt.subplot(FIG_H, FIG_W, node + 1)\n",
    "#     draw_subgraph(G_NWX, node, node_dict[node])\n",
    "# plt.savefig(\"Random Sampling with restart_ratio=1\", dpi=400)\n"
   ],
   "metadata": {
    "collapsed": false,
    "pycharm": {
     "name": "#%%\n",
     "is_executing": false
    }
   }
  },
  {
   "cell_type": "markdown",
   "source": [
    "# Read Cora for testing"
   ],
   "metadata": {
    "collapsed": false,
    "pycharm": {
     "name": "#%% md\n",
     "is_executing": false
    }
   }
  },
  {
   "cell_type": "code",
   "execution_count": null,
   "outputs": [],
   "source": [
    "from utils import *\n",
    "adj, features, labels, idx_train, idx_val, idx_test, ano_label, str_ano_label, attr_ano_label = load_mat(\"cora\")\n",
    "features, _ = preprocess_features(features)\n",
    "src, dst = np.nonzero(adj)\n",
    "g_cora = dgl.graph((src, dst))\n",
    "g_cora.ndata['feat'] = torch.FloatTensor(features)\n",
    "g_cora.ndata['label'] = torch.LongTensor(labels)\n",
    "g_cora_cuda = g_cora.to('cuda')"
   ],
   "metadata": {
    "collapsed": false,
    "pycharm": {
     "name": "#%%\n"
    }
   }
  },
  {
   "cell_type": "code",
   "execution_count": 597,
   "outputs": [],
   "source": [
    "class GraphSamplerTEST(torch.nn.Module):\n",
    "    def __init__(self, graph, n_nodes=4):\n",
    "        super(GraphSamplerTEST, self).__init__()\n",
    "        # GCN: A @ X @ W\n",
    "        self.g = graph\n",
    "        device = graph.device\n",
    "        A = self.g.adjacency_matrix()\n",
    "        \n",
    "        # TEST 1: create new graph then send it to device\n",
    "        indices_list = []\n",
    "        probs_list = []\n",
    "        \n",
    "        for i in range(self.g.num_nodes()):\n",
    "            row = A[i]._indices()\n",
    "            size = row.size()[1]\n",
    "            tensor_ones = torch.ones(size)\n",
    "            indices = torch.cat([tensor_ones.unsqueeze(0) * i, row], dim=0)\n",
    "            indices_list.append(indices)\n",
    "            if size < n_nodes: \n",
    "                probs_list.append(tensor_ones)\n",
    "            else:\n",
    "                dropout_prob = n_nodes / size\n",
    "                probs_list.append(tensor_ones * dropout_prob)\n",
    "        probs = torch.cat(probs_list)\n",
    "        self.sampler = torch.distributions.bernoulli.Bernoulli(probs=probs)\n",
    "        self.indices = torch.cat(indices_list, dim=1).to(torch.int32)\n",
    "        \n",
    "        # TEST 2: deep copy the graph, then drop edges using index\n",
    "        \n",
    "        probs_src = []\n",
    "        for i in range(self.g.num_nodes()):\n",
    "            row = A[i]._indices()\n",
    "            size = row.size()[1]\n",
    "            if size < n_nodes: \n",
    "                probs_src.append(1)\n",
    "            else:\n",
    "                dropout_prob = n_nodes / size\n",
    "                probs_src.append(dropout_prob)\n",
    "        probs_src = torch.tensor(probs_src)\n",
    "        adj_indices = graph.adjacency_matrix()._indices()[0]\n",
    "        edge_drop_prob = 1 - probs_src[adj_indices]\n",
    "        self.sampler_dropedges = torch.distributions.bernoulli.Bernoulli(probs=edge_drop_prob.to(device))\n",
    "        \n",
    "    def forward_copy(self, training=True):\n",
    "        graph = copy.deepcopy(self.g) # 0.38\n",
    "        # select dropped edges\n",
    "        selected_edges = self.sampler_dropedges.sample() # 0.41\n",
    "        index = selected_edges.nonzero().squeeze() # 0.60\n",
    "        graph.remove_edges(index) # 1.52\n",
    "        \n",
    "        return graph\n",
    "    \n",
    "    def forward_create(self, training=True):\n",
    "        new_indices = torch.masked_select(\n",
    "            self.indices, \n",
    "            self.sampler.sample().to(torch.bool)\n",
    "        ).reshape((2, -1))\n",
    "        # 0.25823497772216797\n",
    "        graph = dgl.graph((new_indices[0, :], new_indices[1, :]), num_nodes= self.g.num_nodes())\n",
    "        graph = graph.to(self.g.device)\n",
    "        # 0.5955414772033691\n",
    "        if 'feat' in self.g.ndata:\n",
    "            graph.ndata['feat'] = self.g.ndata['feat']\n",
    "        if 'label' in self.g.ndata:\n",
    "            graph.ndata['label'] = self.g.ndata['label']\n",
    "        # 0.6195650100708008\n",
    "        return graph"
   ],
   "metadata": {
    "collapsed": false,
    "pycharm": {
     "name": "#%%\n",
     "is_executing": false
    }
   }
  },
  {
   "cell_type": "code",
   "execution_count": 600,
   "outputs": [
    {
     "name": "stdout",
     "text": [
      "0.6075518131256104\n"
     ],
     "output_type": "stream"
    }
   ],
   "source": [
    "graph_sampler = GraphSamplerTEST(g_cora_cuda, n_nodes=4)\n",
    "n_sampling = 1000\n",
    "\n",
    "t_create_start = time.time()\n",
    "for i in range(n_sampling):\n",
    "    cora_drop_create = graph_sampler.forward_create()\n",
    "t_create_end = time.time()\n",
    "t_create_delta = t_create_end - t_create_start\n",
    "print(t_create_delta)\n",
    "print(cora_drop_create)\n",
    "print(cora_drop_create.device)\n",
    " \n",
    "# no if : 5.638128042221069\n",
    "# if: 5.629454851150513\n"
   ],
   "metadata": {
    "collapsed": false,
    "pycharm": {
     "name": "#%%\n",
     "is_executing": false
    }
   }
  },
  {
   "cell_type": "code",
   "execution_count": 599,
   "outputs": [
    {
     "name": "stdout",
     "text": [
      "1.5183818340301514\n",
      "Graph(num_nodes=2708, num_edges=7716,\n",
      "      ndata_schemes={'feat': Scheme(shape=(1433,), dtype=torch.float32), 'label': Scheme(shape=(6,), dtype=torch.int64)}\n",
      "      edata_schemes={})\n",
      "cuda:0\n"
     ],
     "output_type": "stream"
    }
   ],
   "source": [
    "\n",
    "graph_sampler = GraphSamplerTEST(g_cora_cuda, n_nodes=4)\n",
    "n_sampling = 1000\n",
    "t_copy_start = time.time()\n",
    "for i in range(n_sampling):\n",
    "    cora_drop_copy = graph_sampler.forward_copy()\n",
    "t_copy_end = time.time()\n",
    "t_copy_delta = t_copy_end - t_copy_start\n",
    "print(t_copy_delta)"
   ],
   "metadata": {
    "collapsed": false,
    "pycharm": {
     "name": "#%%\n",
     "is_executing": false
    }
   }
  },
  {
   "cell_type": "markdown",
   "source": [
    "# Create a new graph 跑得更快 (0.6 vs 1.5)"
   ],
   "metadata": {
    "collapsed": false,
    "pycharm": {
     "name": "#%% md\n"
    }
   }
  },
  {
   "cell_type": "code",
   "execution_count": 631,
   "outputs": [],
   "source": [
    "\n",
    "class GraphSampler(torch.nn.Module):\n",
    "    def __init__(self, graph, n_nodes=4):\n",
    "        super(GraphSampler, self).__init__()\n",
    "        self.g = graph\n",
    "        \n",
    "        indices_list = []\n",
    "        probs_list = []\n",
    "        \n",
    "        A = self.g.adjacency_matrix()\n",
    "        for i in range(self.g.num_nodes()):\n",
    "            row = A[i]._indices()\n",
    "            size = row.size()[1]\n",
    "            tensor_ones = torch.ones(size)\n",
    "            indices = torch.cat([tensor_ones.unsqueeze(0) * i, row], dim=0)\n",
    "            indices_list.append(indices)\n",
    "            if size < n_nodes: \n",
    "                probs_list.append(tensor_ones)\n",
    "            else:\n",
    "                dropout_prob = n_nodes / size\n",
    "                probs_list.append(tensor_ones * dropout_prob)\n",
    "        probs = torch.cat(probs_list)\n",
    "        self.sampler = torch.distributions.bernoulli.Bernoulli(probs=probs.to(self.g.device))\n",
    "        self.indices = torch.cat(indices_list, dim=1).to(torch.int32).to(self.g.device)\n",
    "        \n",
    "    def sample(self):\n",
    "        new_indices = torch.masked_select(\n",
    "            self.indices, \n",
    "            self.sampler.sample().to(torch.bool)\n",
    "        ).reshape((2, -1))\n",
    "        graph = dgl.graph((new_indices[0, :], new_indices[1, :]), num_nodes= self.g.num_nodes())\n",
    "        if 'feat' in self.g.ndata:\n",
    "            graph.ndata['feat'] = self.g.ndata['feat']\n",
    "        if 'label' in self.g.ndata:\n",
    "            graph.ndata['label'] = self.g.ndata['label']\n",
    "        return graph\n"
   ],
   "metadata": {
    "collapsed": false,
    "pycharm": {
     "name": "#%%\n",
     "is_executing": false
    }
   }
  },
  {
   "cell_type": "markdown",
   "source": [
    "# viusualization"
   ],
   "metadata": {
    "collapsed": false,
    "pycharm": {
     "name": "#%% md\n"
    }
   }
  },
  {
   "cell_type": "code",
   "execution_count": 613,
   "outputs": [
    {
     "data": {
      "text/plain": "<Figure size 432x288 with 1 Axes>",
      "image/png": "[encoded data removed]"
     },
     "metadata": {},
     "output_type": "display_data"
    }
   ],
   "source": [
    "# Raw graph\n",
    "\n",
    "options = {\n",
    "    'node_color': 'white',\n",
    "    'node_size': 30,\n",
    "    'width': 1,\n",
    "    'with_labels': True\n",
    "}\n",
    "G_NWX = dgl.to_networkx(graph)\n",
    "plt.figure(figsize=[6,4])\n",
    "nx.draw_spectral(G_NWX, **options)"
   ],
   "metadata": {
    "collapsed": false,
    "pycharm": {
     "name": "#%%\n",
     "is_executing": false
    }
   }
  },
  {
   "cell_type": "code",
   "execution_count": 632,
   "outputs": [],
   "source": [
    "graph_sampler =  GraphSampler(graph, n_nodes=2)"
   ],
   "metadata": {
    "collapsed": false,
    "pycharm": {
     "name": "#%%\n",
     "is_executing": false
    }
   }
  },
  {
   "cell_type": "code",
   "execution_count": 635,
   "outputs": [
    {
     "data": {
      "text/plain": "<Figure size 432x288 with 1 Axes>",
      "image/png": "[encoded data removed]"
     },
     "metadata": {},
     "output_type": "display_data"
    }
   ],
   "source": [
    "# dropped \n",
    "\n",
    "\n",
    "options = {\n",
    "    'node_color': 'white',\n",
    "    'node_size': 30,\n",
    "    'width': 1,\n",
    "    'with_labels': True\n",
    "}\n",
    "G_NWX = dgl.to_networkx(graph_sampler.sample())\n",
    "plt.figure(figsize=[6,4])\n",
    "nx.draw_spectral(G_NWX, **options)\n",
    "\n",
    "\n",
    "\n",
    "\n",
    "\n",
    "\n",
    "\n"
   ],
   "metadata": {
    "collapsed": false,
    "pycharm": {
     "name": "#%%\n",
     "is_executing": false
    }
   }
  }
 ],
 "metadata": {
  "kernelspec": {
   "name": "ggd",
   "language": "python",
   "display_name": "GGD"
  },
  "language_info": {
   "codemirror_mode": {
    "name": "ipython",
    "version": 2
   },
   "file_extension": ".py",
   "mimetype": "text/x-python",
   "name": "python",
   "nbconvert_exporter": "python",
   "pygments_lexer": "ipython2",
   "version": "2.7.6"
  },
  "pycharm": {
   "stem_cell": {
    "cell_type": "raw",
    "source": [],
    "metadata": {
     "collapsed": false
    }
   }
  }
 },
 "nbformat": 4,
 "nbformat_minor": 0
}