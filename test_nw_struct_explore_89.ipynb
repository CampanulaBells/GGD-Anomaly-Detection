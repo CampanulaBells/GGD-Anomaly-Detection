{
 "cells": [
  {
   "cell_type": "code",
   "execution_count": 46,
   "metadata": {
    "collapsed": true,
    "pycharm": {
     "is_executing": false
    }
   },
   "outputs": [],
   "source": [
    "import copy\n",
    "import time\n",
    "import dgl\n",
    "from utils import load_mat, preprocess_features, normalize_adj\n",
    "from sklearn.metrics import roc_auc_score\n",
    "import random\n",
    "import os\n",
    "import argparse\n",
    "import numpy as np\n",
    "import networkx as nx\n",
    "import scipy.sparse as sp\n",
    "import torch\n",
    "import torch.nn as nn\n",
    "import scipy.io as sio\n",
    "import datetime\n",
    "from gcn import GCN\n",
    "\n",
    "from tqdm import tqdm\n",
    "import matplotlib.pyplot as plt\n",
    "from modules.model import Model, ModelGCN"
   ]
  },
  {
   "cell_type": "code",
   "execution_count": 47,
   "outputs": [],
   "source": [
    "class Args:\n",
    "    def __init__(self):\n",
    "        self.cuda = True\n",
    "        \n",
    "        self.dataset = \"cora\"\n",
    "        self.device = \"cuda:0\"\n",
    "        \n",
    "        self.n_ggd_epochs = 300\n",
    "        self.patience = 500\n",
    "        self.batch_size = 300\n",
    "        self.eval_freq = 1\n",
    "        \n",
    "        self.n_hidden = 256\n",
    "        self.gnn_encoder = 'gcn'\n",
    "        self.ggd_lr = 1e-3\n",
    "        self.weight_decay = 0.\n",
    "        \n",
    "        self.subgraph_size = 1\n",
    "args =  Args()\n",
    " \n"
   ],
   "metadata": {
    "collapsed": false,
    "pycharm": {
     "name": "#%%\n",
     "is_executing": false
    }
   }
  },
  {
   "cell_type": "code",
   "execution_count": 48,
   "outputs": [
    {
     "name": "stdout",
     "text": [
      "Dataset: cora\n"
     ],
     "output_type": "stream"
    }
   ],
   "source": [
    "print('Dataset: {}'.format(args.dataset), flush=True)\n",
    "device = torch.device(args.device if torch.cuda.is_available() else 'cpu')\n",
    "torch.backends.cudnn.deterministic = True\n",
    "torch.backends.cudnn.benchmark = False\n",
    "\n",
    "batch_size = args.batch_size\n",
    "\n",
    "adj, features, labels, idx_train, idx_val, idx_test, ano_label, str_ano_label, attr_ano_label = load_mat(args.dataset)\n",
    "\n",
    "features, _ = preprocess_features(features)\n",
    "src, dst = np.nonzero(adj)\n",
    "g = dgl.graph((src, dst))\n",
    "g = dgl.add_self_loop(g)\n",
    "\n",
    "# adj = normalize_adj(adj)\n",
    "adj = (adj + sp.eye(adj.shape[0])).todense()\n",
    "adj = torch.FloatTensor(adj[np.newaxis]).to(device)"
   ],
   "metadata": {
    "collapsed": false,
    "pycharm": {
     "name": "#%%\n",
     "is_executing": false
    }
   }
  },
  {
   "cell_type": "code",
   "execution_count": 49,
   "outputs": [],
   "source": [
    "nb_nodes = features.shape[0]\n",
    "ft_size = features.shape[1]\n",
    "nb_classes = labels.shape[1]\n",
    "\n",
    "features = torch.FloatTensor(features).to(device)\n",
    "labels = torch.FloatTensor(labels).to(device)"
   ],
   "metadata": {
    "collapsed": false,
    "pycharm": {
     "name": "#%%\n",
     "is_executing": false
    }
   }
  },
  {
   "cell_type": "markdown",
   "source": [
    "Create GGD model"
   ],
   "metadata": {
    "collapsed": false,
    "pycharm": {
     "name": "#%% md\n",
     "is_executing": false
    }
   }
  },
  {
   "cell_type": "code",
   "execution_count": 50,
   "outputs": [],
   "source": [
    "\n",
    "g = g.to(device)\n",
    "# Create GGD model\n",
    "\n",
    "gamma = 0.1\n",
    "# for gamma in [0, 0.05, 0.07, 0.1, 0.2, 0.3, 0.4]:\n",
    "model = Model(\n",
    "    g,\n",
    "    ft_size,\n",
    "    args.n_hidden,\n",
    "    nn.PReLU(args.n_hidden),\n",
    "    args.gnn_encoder,\n",
    "    args.subgraph_size\n",
    ")\n",
    "# model = ModelGCN(\n",
    "#     g, adj,\n",
    "#     ft_size,\n",
    "#     args.n_hidden,\n",
    "#     nn.PReLU(args.n_hidden),\n",
    "#     args.gnn_encoder,\n",
    "#     args.subgraph_size\n",
    "# )\n",
    "if args.cuda:\n",
    "    model.cuda()"
   ],
   "metadata": {
    "collapsed": false,
    "pycharm": {
     "name": "#%%\n",
     "is_executing": false
    }
   }
  },
  {
   "cell_type": "code",
   "execution_count": 51,
   "outputs": [],
   "source": [
    "\n",
    "optimizer = torch.optim.Adam(model.parameters(),\n",
    "                                 lr=args.ggd_lr,\n",
    "                                 weight_decay=args.weight_decay)\n",
    "b_xent = nn.BCEWithLogitsLoss()"
   ],
   "metadata": {
    "collapsed": false,
    "pycharm": {
     "name": "#%%\n",
     "is_executing": false
    }
   }
  },
  {
   "cell_type": "markdown",
   "source": [
    "# train GGD"
   ],
   "metadata": {
    "collapsed": false
   }
  },
  {
   "cell_type": "code",
   "execution_count": 52,
   "outputs": [
    {
     "name": "stderr",
     "text": [
      "Training: 100%|█████████████████████████████████████████████████████████████████████████████████████████████████████████████████████████████████████████████████████████████████████████████████████████████████████████████████| 300/300 [00:09<00:00, 31.95it/s, loss=0.661]\n"
     ],
     "output_type": "stream"
    }
   ],
   "source": [
    "cnt_wait = 0\n",
    "best = 1e9\n",
    "best_t = 0\n",
    "dur = [] # training time\n",
    "loss_list = [] # loss\n",
    "\n",
    "tag = str(datetime.datetime.now().strftime(\"%m-%d %H%M%S\"))\n",
    "# print(\"Memory beg:\", torch.cuda.memory_allocated(device) / 1024 / 1024)\n",
    "\n",
    "epoch_list = []\n",
    "auc_score_list = []\n",
    "auc_pos_list = []\n",
    "auc_neg_list = []\n",
    "pos_std = []\n",
    "neg_std = []\n",
    "score_std = []\n",
    "label_positive = torch.zeros(1, g.number_of_nodes()).cuda()\n",
    "label_negative = torch.ones(1, g.number_of_nodes()).cuda()\n",
    "with tqdm(total=args.n_ggd_epochs) as pbar:\n",
    "    pbar.set_description('Training')\n",
    "    for epoch in range(args.n_ggd_epochs):\n",
    "        \n",
    "        if epoch % args.eval_freq == 0:\n",
    "            model.eval()\n",
    "            with torch.no_grad():\n",
    "                epoch_list.append(epoch)\n",
    "                s_positive = model(features)[0]\n",
    "                pos_prob = s_positive.detach()[0].cpu().numpy()\n",
    "                auc_pos_list.append(roc_auc_score(ano_label, pos_prob))\n",
    "        \n",
    "        model.train()\n",
    "        t0 = time.time()\n",
    "        optimizer.zero_grad()\n",
    "        \n",
    "        s_positive, s_negative, ggd_score_pos, ggd_score_neg, perm = model(features)\n",
    "        \n",
    "        loss_anomaly = b_xent(s_positive, label_positive) + b_xent(s_negative, label_negative)\n",
    "        loss_ggd = b_xent(ggd_score_pos, label_positive) + b_xent(ggd_score_neg, label_negative)\n",
    "        loss = (1-gamma) * loss_anomaly + gamma * loss_ggd\n",
    "        loss.backward()\n",
    "        \n",
    "        optimizer.step()\n",
    "        comp_time = time.time() - t0\n",
    "        dur.append(comp_time)\n",
    "        loss_list.append((loss.detach().cpu().item(), loss_anomaly.detach().cpu().item(), loss_ggd.detach().cpu().item()))\n",
    "\n",
    "        if loss < best:\n",
    "            best = loss\n",
    "            best_t = epoch\n",
    "            cnt_wait = 0\n",
    "            # torch.save(ggd.state_dict(), 'checkpoints_ggd/best_ggd' + tag + '.pkl')\n",
    "        else:\n",
    "            cnt_wait += 1\n",
    "    \n",
    "        if cnt_wait == args.patience:\n",
    "            print('Early stopping!')\n",
    "            break\n",
    "    \n",
    "        \n",
    "        pbar.set_postfix(loss=loss.item())\n",
    "        pbar.update(1)\n"
   ],
   "metadata": {
    "collapsed": false,
    "pycharm": {
     "name": "#%%\n",
     "is_executing": false
    }
   }
  },
  {
   "cell_type": "markdown",
   "source": [
    "# Visualization"
   ],
   "metadata": {
    "collapsed": false
   }
  },
  {
   "cell_type": "code",
   "execution_count": 53,
   "outputs": [
    {
     "data": {
      "text/plain": "<Figure size 432x288 with 1 Axes>",
      "image/png": "[encoded data removed]"
     },
     "metadata": {
      "needs_background": "light"
     },
     "output_type": "display_data"
    }
   ],
   "source": [
    "def draw_line(plt, epoch_list, data_list, color, label, max_marker=None):\n",
    "    plt.plot(epoch_list, data_list, color=color, label=label)\n",
    "    if max_marker is not None:\n",
    "        max_index = np.argmax(data_list)\n",
    "        val_str = \"{:.4f}\".format(data_list[max_index])\n",
    "        plt.plot(epoch_list[max_index],data_list[max_index], color=color, marker=max_marker)\n",
    "        plt.annotate(val_str,xytext=(-20, 10), textcoords='offset points',\n",
    "            xy=(epoch_list[max_index],data_list[max_index]), color=color)\n",
    "\n",
    "draw_line(plt, epoch_list, auc_pos_list, 'g', label=\"auc positive\", max_marker=\"^\")\n",
    "\n",
    "plt.ylabel('auc')\n",
    "plt.legend()\n",
    "plt.ylim(0, 1)\n",
    "plt.yticks(np.arange(0, 1, step=0.1))\n",
    "plt.savefig(\"aggdv2.png\", dpi=400)"
   ],
   "metadata": {
    "collapsed": false,
    "pycharm": {
     "name": "#%%\n",
     "is_executing": false
    }
   }
  },
  {
   "cell_type": "code",
   "execution_count": 54,
   "outputs": [
    {
     "name": "stdout",
     "text": [
      "largest auc (299): 0.8837763878029712\n",
      "smallest loss model (294): 0.8832655720615064\n"
     ],
     "output_type": "stream"
    }
   ],
   "source": [
    "print(f\"largest auc ({np.argmax(np.array(auc_pos_list))}): {max(auc_pos_list)}\", )\n",
    "index_min_loss = np.argmin(np.array(loss_list)[:, 0])\n",
    "print(f\"smallest loss model ({index_min_loss}): {auc_pos_list[index_min_loss]}\")"
   ],
   "metadata": {
    "collapsed": false,
    "pycharm": {
     "name": "#%%\n",
     "is_executing": false
    }
   }
  }
 ],
 "metadata": {
  "kernelspec": {
   "name": "ggd",
   "language": "python",
   "display_name": "GGD"
  },
  "language_info": {
   "codemirror_mode": {
    "name": "ipython",
    "version": 2
   },
   "file_extension": ".py",
   "mimetype": "text/x-python",
   "name": "python",
   "nbconvert_exporter": "python",
   "pygments_lexer": "ipython2",
   "version": "2.7.6"
  },
  "pycharm": {
   "stem_cell": {
    "cell_type": "raw",
    "source": [],
    "metadata": {
     "collapsed": false
    }
   }
  }
 },
 "nbformat": 4,
 "nbformat_minor": 0
}